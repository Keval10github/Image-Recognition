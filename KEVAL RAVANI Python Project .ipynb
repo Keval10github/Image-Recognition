{
 "cells": [
  {
   "cell_type": "code",
   "execution_count": null,
   "metadata": {
    "executionInfo": {
     "elapsed": 9535,
     "status": "ok",
     "timestamp": 1744546138245,
     "user": {
      "displayName": "Keval Ravani",
      "userId": "15959299852465078334"
     },
     "user_tz": -330
    },
    "id": "lRA8077fDPcn"
   },
   "outputs": [],
   "source": [
    "import tensorflow as tf"
   ]
  },
  {
   "cell_type": "code",
   "execution_count": null,
   "metadata": {
    "executionInfo": {
     "elapsed": 103,
     "status": "ok",
     "timestamp": 1744546138362,
     "user": {
      "displayName": "Keval Ravani",
      "userId": "15959299852465078334"
     },
     "user_tz": -330
    },
    "id": "j9F-agTzDU0o"
   },
   "outputs": [],
   "source": [
    "cifar10 = tf.keras.datasets.cifar10"
   ]
  },
  {
   "cell_type": "code",
   "execution_count": null,
   "metadata": {
    "colab": {
     "base_uri": "https://localhost:8080/"
    },
    "executionInfo": {
     "elapsed": 7609,
     "status": "ok",
     "timestamp": 1744546149536,
     "user": {
      "displayName": "Keval Ravani",
      "userId": "15959299852465078334"
     },
     "user_tz": -330
    },
    "id": "a9Y-zFmBDXRP",
    "outputId": "0fd355e5-b594-4c0c-84e0-e2c7020228ae"
   },
   "outputs": [
    {
     "name": "stdout",
     "output_type": "stream",
     "text": [
      "Downloading data from https://www.cs.toronto.edu/~kriz/cifar-10-python.tar.gz\n",
      "\u001b[1m170498071/170498071\u001b[0m \u001b[32m━━━━━━━━━━━━━━━━━━━━\u001b[0m\u001b[37m\u001b[0m \u001b[1m3s\u001b[0m 0us/step\n"
     ]
    }
   ],
   "source": [
    "(x_train, y_train), (x_test, y_test) = cifar10.load_data()"
   ]
  },
  {
   "cell_type": "code",
   "execution_count": 4,
   "metadata": {
    "colab": {
     "base_uri": "https://localhost:8080/"
    },
    "executionInfo": {
     "elapsed": 48,
     "status": "ok",
     "timestamp": 1744546149757,
     "user": {
      "displayName": "Keval Ravani",
      "userId": "15959299852465078334"
     },
     "user_tz": -330
    },
    "id": "8eY_H46VDZVx",
    "outputId": "050060c5-2c21-43fc-c4c7-cb9721d18c50"
   },
   "outputs": [
    {
     "name": "stdout",
     "output_type": "stream",
     "text": [
      "(50000, 32, 32, 3) (50000, 1) (10000, 32, 32, 3) (10000, 1)\n"
     ]
    }
   ],
   "source": [
    "print(x_train.shape, y_train.shape, x_test.shape, y_test.shape)"
   ]
  },
  {
   "cell_type": "code",
   "execution_count": 5,
   "metadata": {
    "executionInfo": {
     "elapsed": 601,
     "status": "ok",
     "timestamp": 1744546159773,
     "user": {
      "displayName": "Keval Ravani",
      "userId": "15959299852465078334"
     },
     "user_tz": -330
    },
    "id": "jWbupi2SDbP0"
   },
   "outputs": [],
   "source": [
    "x_train = x_train/255.0"
   ]
  },
  {
   "cell_type": "code",
   "execution_count": 6,
   "metadata": {
    "executionInfo": {
     "elapsed": 101,
     "status": "ok",
     "timestamp": 1744546168155,
     "user": {
      "displayName": "Keval Ravani",
      "userId": "15959299852465078334"
     },
     "user_tz": -330
    },
    "id": "hafkisUiDdjq"
   },
   "outputs": [],
   "source": [
    "x_test = x_test/255.0"
   ]
  },
  {
   "cell_type": "code",
   "execution_count": 7,
   "metadata": {
    "colab": {
     "base_uri": "https://localhost:8080/"
    },
    "executionInfo": {
     "elapsed": 6,
     "status": "ok",
     "timestamp": 1744546174901,
     "user": {
      "displayName": "Keval Ravani",
      "userId": "15959299852465078334"
     },
     "user_tz": -330
    },
    "id": "lYS6n7-fDfua",
    "outputId": "04e18d98-e1e6-4279-8687-a25c195bf289"
   },
   "outputs": [
    {
     "data": {
      "text/plain": [
       "array([[[0.60392157, 0.69411765, 0.73333333],\n",
       "        [0.49411765, 0.5372549 , 0.53333333],\n",
       "        [0.41176471, 0.40784314, 0.37254902],\n",
       "        ...,\n",
       "        [0.35686275, 0.37254902, 0.27843137],\n",
       "        [0.34117647, 0.35294118, 0.27843137],\n",
       "        [0.30980392, 0.31764706, 0.2745098 ]],\n",
       "\n",
       "       [[0.54901961, 0.62745098, 0.6627451 ],\n",
       "        [0.56862745, 0.6       , 0.60392157],\n",
       "        [0.49019608, 0.49019608, 0.4627451 ],\n",
       "        ...,\n",
       "        [0.37647059, 0.38823529, 0.30588235],\n",
       "        [0.30196078, 0.31372549, 0.24313725],\n",
       "        [0.27843137, 0.28627451, 0.23921569]],\n",
       "\n",
       "       [[0.54901961, 0.60784314, 0.64313725],\n",
       "        [0.54509804, 0.57254902, 0.58431373],\n",
       "        [0.45098039, 0.45098039, 0.43921569],\n",
       "        ...,\n",
       "        [0.30980392, 0.32156863, 0.25098039],\n",
       "        [0.26666667, 0.2745098 , 0.21568627],\n",
       "        [0.2627451 , 0.27058824, 0.21568627]],\n",
       "\n",
       "       ...,\n",
       "\n",
       "       [[0.68627451, 0.65490196, 0.65098039],\n",
       "        [0.61176471, 0.60392157, 0.62745098],\n",
       "        [0.60392157, 0.62745098, 0.66666667],\n",
       "        ...,\n",
       "        [0.16470588, 0.13333333, 0.14117647],\n",
       "        [0.23921569, 0.20784314, 0.22352941],\n",
       "        [0.36470588, 0.3254902 , 0.35686275]],\n",
       "\n",
       "       [[0.64705882, 0.60392157, 0.50196078],\n",
       "        [0.61176471, 0.59607843, 0.50980392],\n",
       "        [0.62352941, 0.63137255, 0.55686275],\n",
       "        ...,\n",
       "        [0.40392157, 0.36470588, 0.37647059],\n",
       "        [0.48235294, 0.44705882, 0.47058824],\n",
       "        [0.51372549, 0.4745098 , 0.51372549]],\n",
       "\n",
       "       [[0.63921569, 0.58039216, 0.47058824],\n",
       "        [0.61960784, 0.58039216, 0.47843137],\n",
       "        [0.63921569, 0.61176471, 0.52156863],\n",
       "        ...,\n",
       "        [0.56078431, 0.52156863, 0.54509804],\n",
       "        [0.56078431, 0.5254902 , 0.55686275],\n",
       "        [0.56078431, 0.52156863, 0.56470588]]])"
      ]
     },
     "execution_count": 7,
     "metadata": {},
     "output_type": "execute_result"
    }
   ],
   "source": [
    "x_train[1,:]"
   ]
  },
  {
   "cell_type": "code",
   "execution_count": 8,
   "metadata": {
    "executionInfo": {
     "elapsed": 8,
     "status": "ok",
     "timestamp": 1744546211974,
     "user": {
      "displayName": "Keval Ravani",
      "userId": "15959299852465078334"
     },
     "user_tz": -330
    },
    "id": "zzCI1s2CDhY7"
   },
   "outputs": [],
   "source": [
    "class_names = ['airplane', 'automobile', 'bird', 'cat', 'deer',\n",
    "'dog', 'frog', 'horse', 'ship', 'truck']"
   ]
  },
  {
   "cell_type": "code",
   "execution_count": 9,
   "metadata": {
    "executionInfo": {
     "elapsed": 57,
     "status": "ok",
     "timestamp": 1744546220871,
     "user": {
      "displayName": "Keval Ravani",
      "userId": "15959299852465078334"
     },
     "user_tz": -330
    },
    "id": "Rbsycce9DqcW"
   },
   "outputs": [],
   "source": [
    "import random"
   ]
  },
  {
   "cell_type": "code",
   "execution_count": 10,
   "metadata": {
    "executionInfo": {
     "elapsed": 4,
     "status": "ok",
     "timestamp": 1744546228054,
     "user": {
      "displayName": "Keval Ravani",
      "userId": "15959299852465078334"
     },
     "user_tz": -330
    },
    "id": "uAyXB3oRDsl5"
   },
   "outputs": [],
   "source": [
    "import matplotlib.pyplot as plt"
   ]
  },
  {
   "cell_type": "code",
   "execution_count": 11,
   "metadata": {
    "executionInfo": {
     "elapsed": 19,
     "status": "ok",
     "timestamp": 1744546236035,
     "user": {
      "displayName": "Keval Ravani",
      "userId": "15959299852465078334"
     },
     "user_tz": -330
    },
    "id": "FfP1CC8pDuXB"
   },
   "outputs": [],
   "source": [
    "idx = random.randint(0, len(x_train))"
   ]
  },
  {
   "cell_type": "code",
   "execution_count": 13,
   "metadata": {
    "colab": {
     "base_uri": "https://localhost:8080/",
     "height": 52
    },
    "executionInfo": {
     "elapsed": 37,
     "status": "ok",
     "timestamp": 1744546261843,
     "user": {
      "displayName": "Keval Ravani",
      "userId": "15959299852465078334"
     },
     "user_tz": -330
    },
    "id": "r8L4tsHcDwUJ",
    "outputId": "57db76a7-70e1-4089-9d74-bf0a5d84821a"
   },
   "outputs": [
    {
     "data": {
      "text/plain": [
       "<Figure size 150x150 with 0 Axes>"
      ]
     },
     "execution_count": 13,
     "metadata": {},
     "output_type": "execute_result"
    },
    {
     "data": {
      "text/plain": [
       "<Figure size 150x150 with 0 Axes>"
      ]
     },
     "metadata": {},
     "output_type": "display_data"
    }
   ],
   "source": [
    "plt.figure(figsize=(1.5,1.5))"
   ]
  },
  {
   "cell_type": "code",
   "execution_count": 14,
   "metadata": {
    "colab": {
     "base_uri": "https://localhost:8080/",
     "height": 447
    },
    "executionInfo": {
     "elapsed": 1159,
     "status": "ok",
     "timestamp": 1744546272023,
     "user": {
      "displayName": "Keval Ravani",
      "userId": "15959299852465078334"
     },
     "user_tz": -330
    },
    "id": "SRPh7lRfDzx_",
    "outputId": "d450109a-1f10-48cf-f900-3fa440ae9e71"
   },
   "outputs": [
    {
     "data": {
      "text/plain": [
       "<matplotlib.image.AxesImage at 0x7cee9f8977d0>"
      ]
     },
     "execution_count": 14,
     "metadata": {},
     "output_type": "execute_result"
    },
    {
     "data": {
      "image/png": "[encoded data removed]",
      "text/plain": [
       "<Figure size 640x480 with 1 Axes>"
      ]
     },
     "metadata": {},
     "output_type": "display_data"
    }
   ],
   "source": [
    "plt.imshow(x_train[idx, :])"
   ]
  },
  {
   "cell_type": "code",
   "execution_count": 15,
   "metadata": {
    "colab": {
     "base_uri": "https://localhost:8080/",
     "height": 472
    },
    "executionInfo": {
     "elapsed": 270,
     "status": "ok",
     "timestamp": 1744546279365,
     "user": {
      "displayName": "Keval Ravani",
      "userId": "15959299852465078334"
     },
     "user_tz": -330
    },
    "id": "XPjWa0CED4zb",
    "outputId": "56e02db3-f4f8-4c18-8b7c-da2c166dcabe"
   },
   "outputs": [
    {
     "data": {
      "text/plain": [
       "Text(0.5, 0, 'bird')"
      ]
     },
     "execution_count": 15,
     "metadata": {},
     "output_type": "execute_result"
    },
    {
     "data": {
      "image/png": "[encoded data removed]",
      "text/plain": [
       "<Figure size 640x480 with 1 Axes>"
      ]
     },
     "metadata": {},
     "output_type": "display_data"
    }
   ],
   "source": [
    "plt.xlabel(class_names[y_train[idx][0]])"
   ]
  },
  {
   "cell_type": "code",
   "execution_count": 16,
   "metadata": {
    "executionInfo": {
     "elapsed": 7,
     "status": "ok",
     "timestamp": 1744546286506,
     "user": {
      "displayName": "Keval Ravani",
      "userId": "15959299852465078334"
     },
     "user_tz": -330
    },
    "id": "tACSGRA0D600"
   },
   "outputs": [],
   "source": [
    "plt.show()"
   ]
  },
  {
   "cell_type": "code",
   "execution_count": 17,
   "metadata": {
    "executionInfo": {
     "elapsed": 48,
     "status": "ok",
     "timestamp": 1744546292520,
     "user": {
      "displayName": "Keval Ravani",
      "userId": "15959299852465078334"
     },
     "user_tz": -330
    },
    "id": "sW8hnZwwD8oP"
   },
   "outputs": [],
   "source": [
    "from tensorflow.keras.models import Sequential"
   ]
  },
  {
   "cell_type": "code",
   "execution_count": 18,
   "metadata": {
    "executionInfo": {
     "elapsed": 5,
     "status": "ok",
     "timestamp": 1744546299201,
     "user": {
      "displayName": "Keval Ravani",
      "userId": "15959299852465078334"
     },
     "user_tz": -330
    },
    "id": "NrRmUIbjD-GG"
   },
   "outputs": [],
   "source": [
    "from tensorflow.keras.layers import Conv2D, MaxPooling2D, Dense, Flatten"
   ]
  },
  {
   "cell_type": "code",
   "execution_count": 19,
   "metadata": {
    "colab": {
     "base_uri": "https://localhost:8080/"
    },
    "executionInfo": {
     "elapsed": 123,
     "status": "ok",
     "timestamp": 1744546307694,
     "user": {
      "displayName": "Keval Ravani",
      "userId": "15959299852465078334"
     },
     "user_tz": -330
    },
    "id": "zwcyZiAnD_vS",
    "outputId": "77dfdcda-5f28-4b34-c861-236299d28731"
   },
   "outputs": [
    {
     "name": "stderr",
     "output_type": "stream",
     "text": [
      "/usr/local/lib/python3.11/dist-packages/keras/src/layers/convolutional/base_conv.py:107: UserWarning: Do not pass an `input_shape`/`input_dim` argument to a layer. When using Sequential models, prefer using an `Input(shape)` object as the first layer in the model instead.\n",
      "  super().__init__(activity_regularizer=activity_regularizer, **kwargs)\n"
     ]
    }
   ],
   "source": [
    "model = Sequential([\n",
    "Conv2D(32, (3,3), activation = 'relu', input_shape = (32, 32, 3)),\n",
    "MaxPooling2D((2,2)),\n",
    "Conv2D(64, (3,3), activation = 'relu'),\n",
    "MaxPooling2D((2,2)),\n",
    "Conv2D(128, (3,3), activation = 'relu'),\n",
    "MaxPooling2D((2,2)),\n",
    "Flatten(),\n",
    "Dense(64, activation = 'relu'),\n",
    "Dense(10, activation = 'softmax')\n",
    "])\n"
   ]
  },
  {
   "cell_type": "code",
   "execution_count": 20,
   "metadata": {
    "colab": {
     "base_uri": "https://localhost:8080/",
     "height": 417
    },
    "executionInfo": {
     "elapsed": 98,
     "status": "ok",
     "timestamp": 1744546319853,
     "user": {
      "displayName": "Keval Ravani",
      "userId": "15959299852465078334"
     },
     "user_tz": -330
    },
    "id": "O1d9U2T4EByC",
    "outputId": "d1f48978-8b18-41f8-b3ae-c3148b9013b3"
   },
   "outputs": [
    {
     "data": {
      "text/html": [
       "<pre style=\"white-space:pre;overflow-x:auto;line-height:normal;font-family:Menlo,'DejaVu Sans Mono',consolas,'Courier New',monospace\"><span style=\"font-weight: bold\">Model: \"sequential\"</span>\n",
       "</pre>\n"
      ],
      "text/plain": [
       "\u001b[1mModel: \"sequential\"\u001b[0m\n"
      ]
     },
     "metadata": {},
     "output_type": "display_data"
    },
    {
     "data": {
      "text/html": [
       "<pre style=\"white-space:pre;overflow-x:auto;line-height:normal;font-family:Menlo,'DejaVu Sans Mono',consolas,'Courier New',monospace\">┏━━━━━━━━━━━━━━━━━━━━━━━━━━━━━━━━━┳━━━━━━━━━━━━━━━━━━━━━━━━┳━━━━━━━━━━━━━━━┓\n",
       "┃<span style=\"font-weight: bold\"> Layer (type)                    </span>┃<span style=\"font-weight: bold\"> Output Shape           </span>┃<span style=\"font-weight: bold\">       Param # </span>┃\n",
       "┡━━━━━━━━━━━━━━━━━━━━━━━━━━━━━━━━━╇━━━━━━━━━━━━━━━━━━━━━━━━╇━━━━━━━━━━━━━━━┩\n",
       "│ conv2d (<span style=\"color: #0087ff; text-decoration-color: #0087ff\">Conv2D</span>)                 │ (<span style=\"color: #00d7ff; text-decoration-color: #00d7ff\">None</span>, <span style=\"color: #00af00; text-decoration-color: #00af00\">30</span>, <span style=\"color: #00af00; text-decoration-color: #00af00\">30</span>, <span style=\"color: #00af00; text-decoration-color: #00af00\">32</span>)     │           <span style=\"color: #00af00; text-decoration-color: #00af00\">896</span> │\n",
       "├─────────────────────────────────┼────────────────────────┼───────────────┤\n",
       "│ max_pooling2d (<span style=\"color: #0087ff; text-decoration-color: #0087ff\">MaxPooling2D</span>)    │ (<span style=\"color: #00d7ff; text-decoration-color: #00d7ff\">None</span>, <span style=\"color: #00af00; text-decoration-color: #00af00\">15</span>, <span style=\"color: #00af00; text-decoration-color: #00af00\">15</span>, <span style=\"color: #00af00; text-decoration-color: #00af00\">32</span>)     │             <span style=\"color: #00af00; text-decoration-color: #00af00\">0</span> │\n",
       "├─────────────────────────────────┼────────────────────────┼───────────────┤\n",
       "│ conv2d_1 (<span style=\"color: #0087ff; text-decoration-color: #0087ff\">Conv2D</span>)               │ (<span style=\"color: #00d7ff; text-decoration-color: #00d7ff\">None</span>, <span style=\"color: #00af00; text-decoration-color: #00af00\">13</span>, <span style=\"color: #00af00; text-decoration-color: #00af00\">13</span>, <span style=\"color: #00af00; text-decoration-color: #00af00\">64</span>)     │        <span style=\"color: #00af00; text-decoration-color: #00af00\">18,496</span> │\n",
       "├─────────────────────────────────┼────────────────────────┼───────────────┤\n",
       "│ max_pooling2d_1 (<span style=\"color: #0087ff; text-decoration-color: #0087ff\">MaxPooling2D</span>)  │ (<span style=\"color: #00d7ff; text-decoration-color: #00d7ff\">None</span>, <span style=\"color: #00af00; text-decoration-color: #00af00\">6</span>, <span style=\"color: #00af00; text-decoration-color: #00af00\">6</span>, <span style=\"color: #00af00; text-decoration-color: #00af00\">64</span>)       │             <span style=\"color: #00af00; text-decoration-color: #00af00\">0</span> │\n",
       "├─────────────────────────────────┼────────────────────────┼───────────────┤\n",
       "│ conv2d_2 (<span style=\"color: #0087ff; text-decoration-color: #0087ff\">Conv2D</span>)               │ (<span style=\"color: #00d7ff; text-decoration-color: #00d7ff\">None</span>, <span style=\"color: #00af00; text-decoration-color: #00af00\">4</span>, <span style=\"color: #00af00; text-decoration-color: #00af00\">4</span>, <span style=\"color: #00af00; text-decoration-color: #00af00\">128</span>)      │        <span style=\"color: #00af00; text-decoration-color: #00af00\">73,856</span> │\n",
       "├─────────────────────────────────┼────────────────────────┼───────────────┤\n",
       "│ max_pooling2d_2 (<span style=\"color: #0087ff; text-decoration-color: #0087ff\">MaxPooling2D</span>)  │ (<span style=\"color: #00d7ff; text-decoration-color: #00d7ff\">None</span>, <span style=\"color: #00af00; text-decoration-color: #00af00\">2</span>, <span style=\"color: #00af00; text-decoration-color: #00af00\">2</span>, <span style=\"color: #00af00; text-decoration-color: #00af00\">128</span>)      │             <span style=\"color: #00af00; text-decoration-color: #00af00\">0</span> │\n",
       "├─────────────────────────────────┼────────────────────────┼───────────────┤\n",
       "│ flatten (<span style=\"color: #0087ff; text-decoration-color: #0087ff\">Flatten</span>)               │ (<span style=\"color: #00d7ff; text-decoration-color: #00d7ff\">None</span>, <span style=\"color: #00af00; text-decoration-color: #00af00\">512</span>)            │             <span style=\"color: #00af00; text-decoration-color: #00af00\">0</span> │\n",
       "├─────────────────────────────────┼────────────────────────┼───────────────┤\n",
       "│ dense (<span style=\"color: #0087ff; text-decoration-color: #0087ff\">Dense</span>)                   │ (<span style=\"color: #00d7ff; text-decoration-color: #00d7ff\">None</span>, <span style=\"color: #00af00; text-decoration-color: #00af00\">64</span>)             │        <span style=\"color: #00af00; text-decoration-color: #00af00\">32,832</span> │\n",
       "├─────────────────────────────────┼────────────────────────┼───────────────┤\n",
       "│ dense_1 (<span style=\"color: #0087ff; text-decoration-color: #0087ff\">Dense</span>)                 │ (<span style=\"color: #00d7ff; text-decoration-color: #00d7ff\">None</span>, <span style=\"color: #00af00; text-decoration-color: #00af00\">10</span>)             │           <span style=\"color: #00af00; text-decoration-color: #00af00\">650</span> │\n",
       "└─────────────────────────────────┴────────────────────────┴───────────────┘\n",
       "</pre>\n"
      ],
      "text/plain": [
       "┏━━━━━━━━━━━━━━━━━━━━━━━━━━━━━━━━━┳━━━━━━━━━━━━━━━━━━━━━━━━┳━━━━━━━━━━━━━━━┓\n",
       "┃\u001b[1m \u001b[0m\u001b[1mLayer (type)                   \u001b[0m\u001b[1m \u001b[0m┃\u001b[1m \u001b[0m\u001b[1mOutput Shape          \u001b[0m\u001b[1m \u001b[0m┃\u001b[1m \u001b[0m\u001b[1m      Param #\u001b[0m\u001b[1m \u001b[0m┃\n",
       "┡━━━━━━━━━━━━━━━━━━━━━━━━━━━━━━━━━╇━━━━━━━━━━━━━━━━━━━━━━━━╇━━━━━━━━━━━━━━━┩\n",
       "│ conv2d (\u001b[38;5;33mConv2D\u001b[0m)                 │ (\u001b[38;5;45mNone\u001b[0m, \u001b[38;5;34m30\u001b[0m, \u001b[38;5;34m30\u001b[0m, \u001b[38;5;34m32\u001b[0m)     │           \u001b[38;5;34m896\u001b[0m │\n",
       "├─────────────────────────────────┼────────────────────────┼───────────────┤\n",
       "│ max_pooling2d (\u001b[38;5;33mMaxPooling2D\u001b[0m)    │ (\u001b[38;5;45mNone\u001b[0m, \u001b[38;5;34m15\u001b[0m, \u001b[38;5;34m15\u001b[0m, \u001b[38;5;34m32\u001b[0m)     │             \u001b[38;5;34m0\u001b[0m │\n",
       "├─────────────────────────────────┼────────────────────────┼───────────────┤\n",
       "│ conv2d_1 (\u001b[38;5;33mConv2D\u001b[0m)               │ (\u001b[38;5;45mNone\u001b[0m, \u001b[38;5;34m13\u001b[0m, \u001b[38;5;34m13\u001b[0m, \u001b[38;5;34m64\u001b[0m)     │        \u001b[38;5;34m18,496\u001b[0m │\n",
       "├─────────────────────────────────┼────────────────────────┼───────────────┤\n",
       "│ max_pooling2d_1 (\u001b[38;5;33mMaxPooling2D\u001b[0m)  │ (\u001b[38;5;45mNone\u001b[0m, \u001b[38;5;34m6\u001b[0m, \u001b[38;5;34m6\u001b[0m, \u001b[38;5;34m64\u001b[0m)       │             \u001b[38;5;34m0\u001b[0m │\n",
       "├─────────────────────────────────┼────────────────────────┼───────────────┤\n",
       "│ conv2d_2 (\u001b[38;5;33mConv2D\u001b[0m)               │ (\u001b[38;5;45mNone\u001b[0m, \u001b[38;5;34m4\u001b[0m, \u001b[38;5;34m4\u001b[0m, \u001b[38;5;34m128\u001b[0m)      │        \u001b[38;5;34m73,856\u001b[0m │\n",
       "├─────────────────────────────────┼────────────────────────┼───────────────┤\n",
       "│ max_pooling2d_2 (\u001b[38;5;33mMaxPooling2D\u001b[0m)  │ (\u001b[38;5;45mNone\u001b[0m, \u001b[38;5;34m2\u001b[0m, \u001b[38;5;34m2\u001b[0m, \u001b[38;5;34m128\u001b[0m)      │             \u001b[38;5;34m0\u001b[0m │\n",
       "├─────────────────────────────────┼────────────────────────┼───────────────┤\n",
       "│ flatten (\u001b[38;5;33mFlatten\u001b[0m)               │ (\u001b[38;5;45mNone\u001b[0m, \u001b[38;5;34m512\u001b[0m)            │             \u001b[38;5;34m0\u001b[0m │\n",
       "├─────────────────────────────────┼────────────────────────┼───────────────┤\n",
       "│ dense (\u001b[38;5;33mDense\u001b[0m)                   │ (\u001b[38;5;45mNone\u001b[0m, \u001b[38;5;34m64\u001b[0m)             │        \u001b[38;5;34m32,832\u001b[0m │\n",
       "├─────────────────────────────────┼────────────────────────┼───────────────┤\n",
       "│ dense_1 (\u001b[38;5;33mDense\u001b[0m)                 │ (\u001b[38;5;45mNone\u001b[0m, \u001b[38;5;34m10\u001b[0m)             │           \u001b[38;5;34m650\u001b[0m │\n",
       "└─────────────────────────────────┴────────────────────────┴───────────────┘\n"
      ]
     },
     "metadata": {},
     "output_type": "display_data"
    },
    {
     "data": {
      "text/html": [
       "<pre style=\"white-space:pre;overflow-x:auto;line-height:normal;font-family:Menlo,'DejaVu Sans Mono',consolas,'Courier New',monospace\"><span style=\"font-weight: bold\"> Total params: </span><span style=\"color: #00af00; text-decoration-color: #00af00\">126,730</span> (495.04 KB)\n",
       "</pre>\n"
      ],
      "text/plain": [
       "\u001b[1m Total params: \u001b[0m\u001b[38;5;34m126,730\u001b[0m (495.04 KB)\n"
      ]
     },
     "metadata": {},
     "output_type": "display_data"
    },
    {
     "data": {
      "text/html": [
       "<pre style=\"white-space:pre;overflow-x:auto;line-height:normal;font-family:Menlo,'DejaVu Sans Mono',consolas,'Courier New',monospace\"><span style=\"font-weight: bold\"> Trainable params: </span><span style=\"color: #00af00; text-decoration-color: #00af00\">126,730</span> (495.04 KB)\n",
       "</pre>\n"
      ],
      "text/plain": [
       "\u001b[1m Trainable params: \u001b[0m\u001b[38;5;34m126,730\u001b[0m (495.04 KB)\n"
      ]
     },
     "metadata": {},
     "output_type": "display_data"
    },
    {
     "data": {
      "text/html": [
       "<pre style=\"white-space:pre;overflow-x:auto;line-height:normal;font-family:Menlo,'DejaVu Sans Mono',consolas,'Courier New',monospace\"><span style=\"font-weight: bold\"> Non-trainable params: </span><span style=\"color: #00af00; text-decoration-color: #00af00\">0</span> (0.00 B)\n",
       "</pre>\n"
      ],
      "text/plain": [
       "\u001b[1m Non-trainable params: \u001b[0m\u001b[38;5;34m0\u001b[0m (0.00 B)\n"
      ]
     },
     "metadata": {},
     "output_type": "display_data"
    }
   ],
   "source": [
    "model.summary()"
   ]
  },
  {
   "cell_type": "code",
   "execution_count": 21,
   "metadata": {
    "executionInfo": {
     "elapsed": 14,
     "status": "ok",
     "timestamp": 1744546332990,
     "user": {
      "displayName": "Keval Ravani",
      "userId": "15959299852465078334"
     },
     "user_tz": -330
    },
    "id": "BxgmOQNXEEwW"
   },
   "outputs": [],
   "source": [
    "model.compile(loss = 'sparse_categorical_crossentropy', optimizer = 'adam', metrics = ['accuracy'])"
   ]
  },
  {
   "cell_type": "code",
   "execution_count": 22,
   "metadata": {
    "colab": {
     "base_uri": "https://localhost:8080/"
    },
    "executionInfo": {
     "elapsed": 155780,
     "status": "ok",
     "timestamp": 1744546496660,
     "user": {
      "displayName": "Keval Ravani",
      "userId": "15959299852465078334"
     },
     "user_tz": -330
    },
    "id": "T6xk7p9xEH-1",
    "outputId": "58b83761-b4d8-47d6-8505-2a01ed6abe9e"
   },
   "outputs": [
    {
     "name": "stdout",
     "output_type": "stream",
     "text": [
      "Epoch 1/2\n",
      "\u001b[1m782/782\u001b[0m \u001b[32m━━━━━━━━━━━━━━━━━━━━\u001b[0m\u001b[37m\u001b[0m \u001b[1m71s\u001b[0m 89ms/step - accuracy: 0.3172 - loss: 1.8283\n",
      "Epoch 2/2\n",
      "\u001b[1m782/782\u001b[0m \u001b[32m━━━━━━━━━━━━━━━━━━━━\u001b[0m\u001b[37m\u001b[0m \u001b[1m67s\u001b[0m 86ms/step - accuracy: 0.5579 - loss: 1.2445\n"
     ]
    },
    {
     "data": {
      "text/plain": [
       "<keras.src.callbacks.history.History at 0x7cee9f3886d0>"
      ]
     },
     "execution_count": 22,
     "metadata": {},
     "output_type": "execute_result"
    }
   ],
   "source": [
    "#model.fit(x_train, y_train, epochs = 2, batch_size = 64, validation_data=(x_test, y_test))\n",
    "model.fit(x_train, y_train, epochs = 2, batch_size = 64)"
   ]
  },
  {
   "cell_type": "code",
   "execution_count": 23,
   "metadata": {
    "colab": {
     "base_uri": "https://localhost:8080/"
    },
    "executionInfo": {
     "elapsed": 4834,
     "status": "ok",
     "timestamp": 1744546501489,
     "user": {
      "displayName": "Keval Ravani",
      "userId": "15959299852465078334"
     },
     "user_tz": -330
    },
    "id": "wB90neA1EJ6Z",
    "outputId": "a503d0fe-c1f8-49c0-df24-25da073873c8"
   },
   "outputs": [
    {
     "name": "stdout",
     "output_type": "stream",
     "text": [
      "\u001b[1m313/313\u001b[0m \u001b[32m━━━━━━━━━━━━━━━━━━━━\u001b[0m\u001b[37m\u001b[0m \u001b[1m4s\u001b[0m 14ms/step - accuracy: 0.6101 - loss: 1.1145\n"
     ]
    },
    {
     "data": {
      "text/plain": [
       "[1.1140769720077515, 0.6118999719619751]"
      ]
     },
     "execution_count": 23,
     "metadata": {},
     "output_type": "execute_result"
    }
   ],
   "source": [
    "model.evaluate(x_test, y_test)"
   ]
  },
  {
   "cell_type": "code",
   "execution_count": 24,
   "metadata": {
    "colab": {
     "base_uri": "https://localhost:8080/",
     "height": 179
    },
    "executionInfo": {
     "elapsed": 143,
     "status": "ok",
     "timestamp": 1744546501677,
     "user": {
      "displayName": "Keval Ravani",
      "userId": "15959299852465078334"
     },
     "user_tz": -330
    },
    "id": "_eTh2jRAEL9j",
    "outputId": "febc9352-045a-4ead-b9a2-b554da121d1b"
   },
   "outputs": [
    {
     "data": {
      "image/png": "[encoded data removed]",
      "text/plain": [
       "<Figure size 150x150 with 1 Axes>"
      ]
     },
     "metadata": {},
     "output_type": "display_data"
    }
   ],
   "source": [
    "idx2 = random.randint(0, len(x_test))\n",
    "plt.figure(figsize=(1.5,1.5))\n",
    "plt.imshow(x_test[idx2, :])\n",
    "plt.show()"
   ]
  },
  {
   "cell_type": "code",
   "execution_count": 25,
   "metadata": {
    "colab": {
     "base_uri": "https://localhost:8080/"
    },
    "executionInfo": {
     "elapsed": 185,
     "status": "ok",
     "timestamp": 1744546501852,
     "user": {
      "displayName": "Keval Ravani",
      "userId": "15959299852465078334"
     },
     "user_tz": -330
    },
    "id": "XodZmp0zEY4K",
    "outputId": "293e8e55-2ff8-44c7-c89c-a1608a4c0055"
   },
   "outputs": [
    {
     "name": "stdout",
     "output_type": "stream",
     "text": [
      "Actual label is: horse\n",
      "\u001b[1m1/1\u001b[0m \u001b[32m━━━━━━━━━━━━━━━━━━━━\u001b[0m\u001b[37m\u001b[0m \u001b[1m0s\u001b[0m 140ms/step\n",
      "predicted label is: dog\n"
     ]
    }
   ],
   "source": [
    "actual_label = class_names[y_test[idx2][0]]\n",
    "print(\"Actual label is:\",actual_label)\n",
    "y_pred = model.predict(x_test[idx2, :].reshape(1, 32, 32, 3))\n",
    "#print(y_pred)\n",
    "predicted_label = class_names[y_pred.argmax()]\n",
    "print(\"predicted label is:\",predicted_label)"
   ]
  },
  {
   "cell_type": "code",
   "execution_count": null,
   "metadata": {
    "id": "_27goU-gEb-G"
   },
   "outputs": [],
   "source": []
  }
 ],
 "metadata": {
  "colab": {
   "authorship_tag": "ABX9TyNBhVUz5EUgc009gJ9MMd5Z",
   "provenance": []
  },
  "kernelspec": {
   "display_name": "Python 3",
   "name": "python3"
  },
  "language_info": {
   "name": "python"
  }
 },
 "nbformat": 4,
 "nbformat_minor": 0
}
